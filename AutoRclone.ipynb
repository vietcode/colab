{
  "nbformat": 4,
  "nbformat_minor": 0,
  "metadata": {
    "colab": {
      "name": "AutoRclone.ipynb",
      "provenance": [],
      "private_outputs": true,
      "authorship_tag": "ABX9TyM7Hi56+MEn6J8riCOU+6Ve",
      "include_colab_link": true
    },
    "kernelspec": {
      "name": "python3",
      "display_name": "Python 3"
    }
  },
  "cells": [
    {
      "cell_type": "markdown",
      "metadata": {
        "id": "view-in-github",
        "colab_type": "text"
      },
      "source": [
        "<a href=\"https://colab.research.google.com/github/vietcode/colab/blob/main/AutoRclone.ipynb\" target=\"_parent\"><img src=\"https://colab.research.google.com/assets/colab-badge.svg\" alt=\"Open In Colab\"/></a>"
      ]
    },
    {
      "cell_type": "code",
      "metadata": {
        "id": "82oXu_GDecyK"
      },
      "source": [
        "#@title AutoRclone { display-mode: \"form\" }\n",
        "\n",
        "import os\n",
        "\n",
        "#@markdown Nhấn nút \"Enable the Drive API\" trong bài tut [Python Quickstart](https://developers.google.com/drive/api/v3/quickstart/python)\n",
        "#@markdown và lưu file tải về thành credentials.json. Upload file đó lên colab này.\n",
        "credentials = \"credentials.json\" #@param { type: \"string\" }\n",
        "#@markdown Số lượng dự án cần tạo.\n",
        "#@markdown Một dự án sẽ tạo 100 SA. Một tài khoản Google cho tối đa thêm 12 dự án.\n",
        "number_of_projects = 1 #@param { type: \"slider\", min: 1, max: 11, step: 1 }\n",
        "\n",
        "#@markdown ---\n",
        "#@markdown Nếu là GSuite Admin có thể tạo group:\n",
        "\n",
        "#@markdown Trước hết nhấn nút \"Enable Directory API\" trong [bài tut này](https://developers.google.com/admin-sdk/directory/v1/quickstart/python)\n",
        "\n",
        "#@markdown Tạo group trong [Admin Console](https://admin.google.com/ac/groups)\n",
        "\n",
        "#@markdown Điền địa chỉ email của group vào đây để thêm những SA vừa tạo vào group đó:\n",
        "add_to_group = \"\" #@param { type: \"string\" }\n",
        "\n",
        "#@markdown ---\n",
        "download = True #@param { type: \"boolean\" }\n",
        "\n",
        "if not os.path.isdir(\"/content/AutoRclone\"):\n",
        "  !git clone https://github.com/xyou365/AutoRclone\n",
        "  !cd AutoRclone && pip3 install -r requirements.txt\n",
        "\n",
        "%cd /content/AutoRclone/\n",
        "\n",
        "if credentials:\n",
        "  !cd /content && cp '{credentials}' AutoRclone/\n",
        "  !!python3 gen_sa_accounts.py --quick-setup {number_of_projects}\n",
        "\n",
        "if add_to_group:\n",
        "  !python3 add_to_google_group.py -g '{add_to_group}'\n",
        "\n",
        "if download:\n",
        "  !zip -r /content/accounts.zip /content/AutoRclone/accounts/\n",
        "  from google.colab import files\n",
        "  files.download(\"/content/accounts.zip\")\n"
      ],
      "execution_count": null,
      "outputs": []
    }
  ]
}