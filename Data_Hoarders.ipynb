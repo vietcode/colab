{
  "nbformat": 4,
  "nbformat_minor": 0,
  "metadata": {
    "colab": {
      "name": "Data Hoarders",
      "provenance": [],
      "private_outputs": true,
      "collapsed_sections": [
        "Y3XZQQfdKJ1C",
        "mfnsdG2m76Hk",
        "6bScVuXO8xKr",
        "Cr9FE8o1HHdC",
        "2X48Z7Pp-jI_"
      ],
      "machine_shape": "hm"
    },
    "kernelspec": {
      "name": "python3",
      "display_name": "Python 3"
    }
  },
  "cells": [
    {
      "cell_type": "markdown",
      "metadata": {
        "id": "IehHYhuQK5uZ"
      },
      "source": [
        "# Data Hoarders"
      ]
    },
    {
      "cell_type": "markdown",
      "metadata": {
        "id": "Y3XZQQfdKJ1C"
      },
      "source": [
        "## Install"
      ]
    },
    {
      "cell_type": "code",
      "metadata": {
        "id": "9OfAIFN0GfOa"
      },
      "source": [
        "#@title { display-mode: \"form\", form-width: \"30%\" }\n",
        "\n",
        "rclone = True #@param {type: \"boolean\" }\n",
        "speedtest = False #@param {type: \"boolean\" }\n",
        "ssh = True #@param {type: \"boolean\"}\n",
        "\n",
        "# Install libraries\n",
        "if rclone:\n",
        "  !curl https://rclone.org/install.sh &> /dev/null | sudo bash\n",
        "  !rclone --version\n",
        "\n",
        "if speedtest:\n",
        "  !pip install speedtest-cli 2>&1\n",
        "  !speedtest\n",
        "\n",
        "if ssh:\n",
        "  !ssh-keygen -q -t rsa -N '' -f ~/.ssh/id_rsa <<<y 2>&1 >/dev/null\n",
        "  !curl -L https://github.com/tmate-io/tmate/releases/download/2.4.0/tmate-2.4.0-static-linux-i386.tar.xz &> /dev/null | tar xJC /usr/local/bin --strip-components 1 &> /dev/null\n",
        "  !tmate -S /tmp/tmate.sock new-session -d &> /dev/null\n",
        "  !sleep 1\n",
        "  !tmate -S /tmp/tmate.sock display -p '#{tmate_ssh}'"
      ],
      "execution_count": null,
      "outputs": []
    },
    {
      "cell_type": "markdown",
      "metadata": {
        "id": "mfnsdG2m76Hk"
      },
      "source": [
        "## Rclone"
      ]
    },
    {
      "cell_type": "markdown",
      "metadata": {
        "id": "6bScVuXO8xKr"
      },
      "source": [
        "### App Config\n",
        "\n",
        "Set up `client_id` and `client_secret`"
      ]
    },
    {
      "cell_type": "code",
      "metadata": {
        "id": "cRKxzbKt8lYX"
      },
      "source": [
        "#@title { display-mode: \"form\", run: \"auto\" }\n",
        "\n",
        "client_id = \"\" #@param { type: \"string\" }\n",
        "client_secret = \"\" #@param { type: \"string\" }"
      ],
      "execution_count": null,
      "outputs": []
    },
    {
      "cell_type": "markdown",
      "metadata": {
        "id": "eOYcmUmP79Qm"
      },
      "source": [
        "### Remotes\n",
        "\n",
        "Create, add, update remote configs to be used elsewhere."
      ]
    },
    {
      "cell_type": "markdown",
      "metadata": {
        "id": "L9HPAYUIHB6m"
      },
      "source": [
        "#### Drives\n",
        "\n",
        "Remotes of Google Drive type."
      ]
    },
    {
      "cell_type": "code",
      "metadata": {
        "id": "Xb969ojd7_OC"
      },
      "source": [
        "#@title { display-mode: \"form\" }\n",
        "\n",
        "name = \"source\" #@param { type: \"string\" }\n",
        "root_folder_id = \"\" #@param { type: \"string\" }\n",
        "team_drive = \"\" #@param { type: \"string\" }\n",
        "token = \"\" #@param { type: \"string\" }\n",
        "service_account_file = \"\" #@param { type: \"string\" }\n",
        "service_account_credentials = \"\" #@param { type: \"string\" }\n",
        "chunk_size = \"256M\" #@param { type: \"string\" }\n",
        "\n",
        "!rclone config delete {name}\n",
        "!rclone config create {name} drive \\\n",
        "  client_id '{client_id}' \\\n",
        "  client_secret '{client_secret}' \\\n",
        "  config_is_local false \\\n",
        "  config_refresh_token false \\\n",
        "  token '{token}' \\\n",
        "  service_account_file '{service_account_file}' \\\n",
        "  service_account_credentials '{service_account_credentials}' \\\n",
        "  root_folder_id '{root_folder_id}' \\\n",
        "  team_drive '{team_drive}' \\\n",
        "  chunk_size {chunk_size} \\\n",
        "  server_side_across_configs true \\\n",
        "  stop_on_upload_limit true"
      ],
      "execution_count": null,
      "outputs": []
    },
    {
      "cell_type": "code",
      "metadata": {
        "id": "Gypq3oYIHPGv"
      },
      "source": [
        "#@title { display-mode: \"form\" }\n",
        "\n",
        "name = \"target\" #@param { type: \"string\" }\n",
        "root_folder_id = \"\" #@param { type: \"string\" }\n",
        "team_drive = \"\" #@param { type: \"string\" }\n",
        "token = \"\" #@param { type: \"string\" }\n",
        "service_account_file = \"\" #@param { type: \"string\" }\n",
        "service_account_credentials = \"\" #@param { type: \"string\" }\n",
        "chunk_size = \"256M\" #@param { type: \"string\" }\n",
        "\n",
        "!rclone config delete {name}\n",
        "!rclone config create {name} drive \\\n",
        "  client_id '{client_id}' \\\n",
        "  client_secret '{client_secret}' \\\n",
        "  config_is_local false \\\n",
        "  config_refresh_token false \\\n",
        "  token '{token}' \\\n",
        "  service_account_file '{service_account_file}' \\\n",
        "  service_account_credentials '{service_account_credentials}' \\\n",
        "  root_folder_id '{root_folder_id}' \\\n",
        "  team_drive '{team_drive}' \\\n",
        "  chunk_size {chunk_size} \\\n",
        "  server_side_across_configs true \\\n",
        "  stop_on_upload_limit true"
      ],
      "execution_count": null,
      "outputs": []
    },
    {
      "cell_type": "markdown",
      "metadata": {
        "id": "Cr9FE8o1HHdC"
      },
      "source": [
        "#### Crypts\n",
        "\n",
        "These crypt remotes encrypt and decrypt another remote."
      ]
    },
    {
      "cell_type": "code",
      "metadata": {
        "id": "XJ2f5Z6SDk_x"
      },
      "source": [
        "#@title { display-mode: \"form\" }\n",
        "\n",
        "name = \"crypt\" #@param { type: \"string\" }\n",
        "remote = \"target:\" #@param { type: \"string\" }\n",
        "filename_encryption = \"standard\" #@param [\"standard\", \"obfuscate\", \"off\"]\n",
        "directory_name_encryption = True #@param { type: \"boolean\" }\n",
        "password = \"\" #@param { type: \"string\" }\n",
        "password2 = \"\" #@param { type: \"string\" }\n",
        "server_side_across_configs = True  #@param { type: \"boolean\" }\n",
        "show_mapping = False #@param { type: \"boolean\" }\n",
        "\n",
        "!rclone config delete {name}\n",
        "!rclone config create {name} crypt \\\n",
        "  remote '{remote}' \\\n",
        "  filename_encryption '{filename_encryption}' \\\n",
        "  directory_name_encryption {directory_name_encryption} \\\n",
        "  password '{password}' \\\n",
        "  password2 '{password2}' \\\n",
        "  server_side_across_configs {server_side_across_configs} \\\n",
        "  show_mapping {show_mapping}"
      ],
      "execution_count": null,
      "outputs": []
    },
    {
      "cell_type": "markdown",
      "metadata": {
        "id": "QDx6TPu5-c0P"
      },
      "source": [
        "### Actions"
      ]
    },
    {
      "cell_type": "markdown",
      "metadata": {
        "id": "2X48Z7Pp-jI_"
      },
      "source": [
        "#### Single remote"
      ]
    },
    {
      "cell_type": "code",
      "metadata": {
        "id": "5Hsr8G1x-nQi"
      },
      "source": [
        "#@title Drive { display-mode: \"form\" }\n",
        "\n",
        "command = \"lsd\" #@param [\"size\", \"lsd\", \"mkdir\", \"rmdir\", \"mount\", \"ncdu\", \"cat\", \"serve\"]\n",
        "name = \"source:\" #@param { type: \"string\" }\n",
        "destination = \"\" #@param { type: \"string\" }\n",
        "flags = \"\" #@param { type: \"string\" }\n",
        "\n",
        "!rclone {command} {name} {destination} {flags}"
      ],
      "execution_count": null,
      "outputs": []
    },
    {
      "cell_type": "markdown",
      "metadata": {
        "id": "YZlCpyV1E_fP"
      },
      "source": [
        "#### Remote to Remote"
      ]
    },
    {
      "cell_type": "code",
      "metadata": {
        "id": "xlugsu08FB5a"
      },
      "source": [
        "#@title Drive { display-mode: \"form\" }\n",
        "\n",
        "command = \"sync\" #@param [\"check\", \"copy\", \"sync\", \"move\"]\n",
        "source = \"source:\" #@param { type: \"string\" }\n",
        "target = \"crypt:\" #@param { type: \"string\" }\n",
        "buffer_size = \"128M\" #@param { type: \"string\" }\n",
        "transfers = 15 #@param {type:\"slider\", min:5, max:30, step:5}\n",
        "flags = \"--progress --stats=5s --stats-one-line\" #@param { type: \"string\" }\n",
        "\n",
        "!rclone {command} '{source}' '{target}' \\\n",
        "  --transfers={transfers} \\\n",
        "  --cutoff-mode=soft \\\n",
        "  --buffer-size={buffer_size} \\\n",
        "  {flags}"
      ],
      "execution_count": null,
      "outputs": []
    }
  ]
}