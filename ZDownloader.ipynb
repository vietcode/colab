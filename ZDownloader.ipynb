{
  "nbformat": 4,
  "nbformat_minor": 0,
  "metadata": {
    "colab": {
      "name": "ZDownloader.ipynb",
      "provenance": [],
      "private_outputs": true,
      "collapsed_sections": [],
      "machine_shape": "hm",
      "include_colab_link": true
    },
    "kernelspec": {
      "name": "python3",
      "display_name": "Python 3"
    }
  },
  "cells": [
    {
      "cell_type": "markdown",
      "metadata": {
        "id": "view-in-github",
        "colab_type": "text"
      },
      "source": [
        "<a href=\"https://colab.research.google.com/github/vietcode/colab/blob/zdownloader/ZDownloader.ipynb\" target=\"_parent\"><img src=\"https://colab.research.google.com/assets/colab-badge.svg\" alt=\"Open In Colab\"/></a>"
      ]
    },
    {
      "cell_type": "code",
      "metadata": {
        "id": "W2DfxCuxiUq1"
      },
      "source": [
        "#@title ZDownloader { display-mode: \"form\", form-width: \"30%\" }\n",
        "#@markdown Path to a file containing links (1 link per line) to download, or a DLC file.\n",
        "links = \"/content/links.txt\" #@param {type:\"string\"}\n",
        "#@markdown Directory to download files to.\n",
        "outdir = \"/content/\" #@param {type:\"string\"}\n",
        "max_parallel_file_downloads = 20 #@param {type:\"slider\", min:1, max:20, step:1}\n",
        "max_segments_per_file = 5 #@param {type:\"slider\", min:1, max:10, step:1}\n",
        "#@markdown Password to extract if needed.\n",
        "password = \"\" #@param {type:\"string\"}\n",
        "\n",
        "import os\n",
        "import requests \n",
        "\n",
        "# Install if haven't.\n",
        "if not os.path.isdir(\"/content/.zdownloader\"):\n",
        "  !curl -L https://github.com/sin2000/zdownloader/releases/download/2.2/linux-x86-64.zip | jar xv\n",
        "  !mv linux-x86-64 .zdownloader\n",
        "  !chmod +x .zdownloader/start_zd.sh\n",
        "  !chmod +x .zdownloader/zdownloader\n",
        "  # Install crudini to edit .ini file of zdownloader\n",
        "  !pip install iniparse # required by crudini.\n",
        "  !curl https://raw.githubusercontent.com/pixelb/crudini/master/crudini > /usr/local/bin/crudini\n",
        "  !chmod a+x /usr/local/bin/crudini\n",
        "\n",
        "# Ensure outdir exists\n",
        "!mkdir -p '{outdir}'\n",
        "# Update configuration\n",
        "!crudini --set /content/.zdownloader/zdownloader.ini 'Common' 'download_directory' '{outdir}'\n",
        "!crudini --set /content/.zdownloader/zdownloader.ini 'Downloader' 'max_parallel_file_downloads' {max_parallel_file_downloads}\n",
        "!crudini --set /content/.zdownloader/zdownloader.ini 'Downloader' 'max_segments_per_file' {max_segments_per_file}\n",
        "!crudini --set /content/.zdownloader/zdownloader.ini 'UnpackPasswords' '1\\pass' '{password}'\n",
        "\n",
        "# Ensures the links file exists.\n",
        "!touch '{links}'\n",
        "\n",
        "# Decrypts DLC file into links.txt directly.\n",
        "if links[-4:] == \".dlc\":\n",
        "  with open(links) as f:\n",
        "    # Decrypt the DLC file for links.\n",
        "    content = f.read()\n",
        "    request = requests.post(url = \"http://dcrypt.it/decrypt/paste\", data = {\"content\": content})\n",
        "    content = request.json()\n",
        "\n",
        "    !touch \"/content/.zdownloader/links.txt\"\n",
        "    with open(\"/content/.zdownloader/links.txt\", \"r+\") as f:\n",
        "      f.seek(0)\n",
        "      f.write(\"\\n\".join(content[\"success\"][\"links\"]))\n",
        "      f.truncate()\n",
        "# Otherwise, just copy the text file over.\n",
        "else:\n",
        "  !cp '{links}' /content/.zdownloader/links.txt\n",
        "\n",
        "# Execute\n",
        "!cd .zdownloader && ./start_zd.sh"
      ],
      "execution_count": null,
      "outputs": []
    }
  ]
}