{
  "nbformat": 4,
  "nbformat_minor": 0,
  "metadata": {
    "colab": {
      "name": "Data Hoarders",
      "private_outputs": true,
      "provenance": [],
      "collapsed_sections": [
        "Y3XZQQfdKJ1C",
        "mfnsdG2m76Hk",
        "6bScVuXO8xKr",
        "Cr9FE8o1HHdC",
        "2X48Z7Pp-jI_",
        "_8ks5NoFf59i"
      ],
      "toc_visible": true,
      "machine_shape": "hm",
      "include_colab_link": true
    },
    "kernelspec": {
      "name": "python3",
      "display_name": "Python 3"
    }
  },
  "cells": [
    {
      "cell_type": "markdown",
      "metadata": {
        "id": "view-in-github",
        "colab_type": "text"
      },
      "source": [
        "<a href=\"https://colab.research.google.com/github/vietcode/colab/blob/main/FShare.ipynb\" target=\"_parent\"><img src=\"https://colab.research.google.com/assets/colab-badge.svg\" alt=\"Open In Colab\"/></a>"
      ]
    },
    {
      "cell_type": "markdown",
      "metadata": {
        "id": "IehHYhuQK5uZ"
      },
      "source": [
        "# Fsharer"
      ]
    },
    {
      "cell_type": "code",
      "metadata": {
        "id": "gpyigz60Jtew"
      },
      "source": [
        "#@title Download {display-mode:\"form\", form-width: \"50%\"}\n",
        "\n",
        "fshare_email = \"\" #@param {type:\"string\"}\n",
        "fshare_password = \"\" #@param {type:\"string\"}\n",
        "fshare_link = \"\" #@param {type:\"string\"}\n",
        "download_dir = \":memory\" #@param [\":memory\", \"/content/drive\"] {allow-input: true}\n",
        "\n",
        "import os\n",
        "\n",
        "# Remove sample data if exists.\n",
        "if os.path.isdir(\"/content/sample_data\"):\n",
        "  !rm -rf /content/sample_data\n",
        "\n",
        "# Install rclone if haven't.\n",
        "!curl -s https://rclone.org/install.sh 2>&1 | sudo bash >/dev/null 2>&1\n",
        "\n",
        "# Download fshare2gdrive if haven't.\n",
        "if not os.path.exists(\"/content/fshare2gdrive.js\"):\n",
        "  !curl -sS https://raw.githubusercontent.com/duythongle/fshare2gdrive/master/fshare2gdrive.js > fshare2gdrive.js\n",
        "  !chmod +x /content/fshare2gdrive.js\n",
        "\n",
        "# Login if haven't.\n",
        "if not os.path.exists(\"/root/.creds\"):\n",
        "  !node fshare2gdrive.js login '{fshare_email}' '{fshare_password}'\n",
        "\n",
        "!node fshare2gdrive.js '{fshare_link}' '{download_dir}' '' | bash -s"
      ],
      "execution_count": null,
      "outputs": []
    }
  ]
}