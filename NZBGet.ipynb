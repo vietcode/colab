{
  "nbformat": 4,
  "nbformat_minor": 0,
  "metadata": {
    "colab": {
      "name": "NZBGet.ipynb",
      "provenance": [],
      "private_outputs": true,
      "collapsed_sections": [
        "aj3uXsTP8M3Q",
        "7vKiyjx98QIM"
      ],
      "authorship_tag": "ABX9TyMX3hIdriCbDod12Reh8J1p",
      "include_colab_link": true
    },
    "kernelspec": {
      "name": "python3",
      "display_name": "Python 3"
    }
  },
  "cells": [
    {
      "cell_type": "markdown",
      "metadata": {
        "id": "view-in-github",
        "colab_type": "text"
      },
      "source": [
        "<a href=\"https://colab.research.google.com/github/vietcode/colab/blob/main/NZBGet.ipynb\" target=\"_parent\"><img src=\"https://colab.research.google.com/assets/colab-badge.svg\" alt=\"Open In Colab\"/></a>"
      ]
    },
    {
      "cell_type": "markdown",
      "metadata": {
        "id": "aj3uXsTP8M3Q"
      },
      "source": [
        "## Settings\n",
        "\n",
        "Run this section at least once. Changes will be saved automatically.\n",
        "\n"
      ]
    },
    {
      "cell_type": "code",
      "metadata": {
        "id": "3WoZmZ376JOn"
      },
      "source": [
        "#@title Settings {display-mode:\"form\", form-width: \"50%\", run: \"auto\"}\n",
        "\n",
        "#@markdown Paths\n",
        "main_dir = \"/content/downloads\" #@param {type:\"string\"}\n",
        "\n",
        "#@markdown Servers\n",
        "server_host = \"news.newshosting.com\" #@param {type:\"string\"}\n",
        "server_port = 563 #@param {type:\"integer\"}\n",
        "server_user = \"\" #@param {type:\"string\"}\n",
        "server_pass = \"\" #@param {type:\"string\"}\n",
        "server_encryption = \"yes\" #@param [\"yes\", \"no\"]\n",
        "server_cipher = \"\" #@param {type:\"string\"}\n",
        "server_connections = 10 #@param {type:\"slider\", min:5, max:60, step:1}\n",
        "server_retention = 3650 #@param {type:\"integer\"}\n",
        "\n",
        "import os\n",
        "\n",
        "# Install if haven't.\n",
        "if not os.path.isdir(\"/content/.nzbget\"):\n",
        "  # Clean up some space.\n",
        "  !rm -rf /content/sample_data/\n",
        "  # Download setup script.\n",
        "  !wget https://nzbget.net/download/nzbget-latest-bin-linux.run &> /dev/null\n",
        "  # Install\n",
        "  !sh nzbget-latest-bin-linux.run --destdir /content/.nzbget &> /dev/null\n",
        "  !rm nzbget-latest-bin-linux.run\n",
        "  # Symbolic link to PATH.\n",
        "  !ln -s /content/.nzbget/nzbget /usr/local/bin\n",
        "\n",
        "# Ensure MainDir exist.\n",
        "!mkdir -p '{main_dir}'"
      ],
      "execution_count": null,
      "outputs": []
    },
    {
      "cell_type": "markdown",
      "metadata": {
        "id": "7vKiyjx98QIM"
      },
      "source": [
        "## Downloads\n",
        "\n",
        "Use a cell for each NZB file. Copy and paste existing cell to add more."
      ]
    },
    {
      "cell_type": "code",
      "metadata": {
        "id": "cLcCBUJz4uoV"
      },
      "source": [
        "#@title { display-mode: \"form\", form-width: \"50%\" }\n",
        "\n",
        "nzb_file = \"\" #@param {type:\"string\"}\n",
        "\n",
        "if nzb_file:\n",
        "  !nzbget \\\n",
        "    -o MainDir='{main_dir}' \\\n",
        "    -o Server1.Host='{server_host}' \\\n",
        "    -o Server1.Port='{server_port}' \\\n",
        "    -o Server1.Username='{server_user}' \\\n",
        "    -o Server1.Password='{server_pass}' \\\n",
        "    -o Server1.Encryption='{server_encryption}' \\\n",
        "    -o Server1.Cipher='{server_cipher}' \\\n",
        "    -o Server1.Connections='{server_connections}' \\\n",
        "    -o Server1.Retention='{server_retention}' \\\n",
        "    -o outputmode=color \\\n",
        "    '{nzb_file}'"
      ],
      "execution_count": null,
      "outputs": []
    },
    {
      "cell_type": "code",
      "metadata": {
        "id": "AdF45UGYZgFZ"
      },
      "source": [
        "#@title { display-mode: \"form\", form-width: \"50%\" }\n",
        "\n",
        "nzb_file = \"\" #@param {type:\"string\"}\n",
        "\n",
        "if nzb_file:\n",
        "  !nzbget \\\n",
        "    -o MainDir='{main_dir}' \\\n",
        "    -o Server1.Host='{server_host}' \\\n",
        "    -o Server1.Port='{server_port}' \\\n",
        "    -o Server1.Username='{server_user}' \\\n",
        "    -o Server1.Password='{server_pass}' \\\n",
        "    -o Server1.Encryption='{server_encryption}' \\\n",
        "    -o Server1.Cipher='{server_cipher}' \\\n",
        "    -o Server1.Connections='{server_connections}' \\\n",
        "    -o Server1.Retention='{server_retention}' \\\n",
        "    -o outputmode=color \\\n",
        "    '{nzb_file}'"
      ],
      "execution_count": null,
      "outputs": []
    },
    {
      "cell_type": "code",
      "metadata": {
        "id": "QzBovVvJZgOg"
      },
      "source": [
        "#@title { display-mode: \"form\", form-width: \"50%\" }\n",
        "\n",
        "nzb_file = \"\" #@param {type:\"string\"}\n",
        "\n",
        "if nzb_file:\n",
        "  !nzbget \\\n",
        "    -o MainDir='{main_dir}' \\\n",
        "    -o Server1.Host='{server_host}' \\\n",
        "    -o Server1.Port='{server_port}' \\\n",
        "    -o Server1.Username='{server_user}' \\\n",
        "    -o Server1.Password='{server_pass}' \\\n",
        "    -o Server1.Encryption='{server_encryption}' \\\n",
        "    -o Server1.Cipher='{server_cipher}' \\\n",
        "    -o Server1.Connections='{server_connections}' \\\n",
        "    -o Server1.Retention='{server_retention}' \\\n",
        "    -o outputmode=color \\\n",
        "    '{nzb_file}'"
      ],
      "execution_count": null,
      "outputs": []
    },
    {
      "cell_type": "code",
      "metadata": {
        "id": "TB2lUaSlZgU2"
      },
      "source": [
        "#@title { display-mode: \"form\", form-width: \"50%\" }\n",
        "\n",
        "nzb_file = \"\" #@param {type:\"string\"}\n",
        "\n",
        "if nzb_file:\n",
        "  !nzbget \\\n",
        "    -o MainDir='{main_dir}' \\\n",
        "    -o Server1.Host='{server_host}' \\\n",
        "    -o Server1.Port='{server_port}' \\\n",
        "    -o Server1.Username='{server_user}' \\\n",
        "    -o Server1.Password='{server_pass}' \\\n",
        "    -o Server1.Encryption='{server_encryption}' \\\n",
        "    -o Server1.Cipher='{server_cipher}' \\\n",
        "    -o Server1.Connections='{server_connections}' \\\n",
        "    -o Server1.Retention='{server_retention}' \\\n",
        "    -o outputmode=color \\\n",
        "    '{nzb_file}'"
      ],
      "execution_count": null,
      "outputs": []
    },
    {
      "cell_type": "code",
      "metadata": {
        "id": "34KTQubUZger"
      },
      "source": [
        "#@title { display-mode: \"form\", form-width: \"50%\" }\n",
        "\n",
        "nzb_file = \"\" #@param {type:\"string\"}\n",
        "\n",
        "if nzb_file:\n",
        "  !nzbget \\\n",
        "    -o MainDir='{main_dir}' \\\n",
        "    -o Server1.Host='{server_host}' \\\n",
        "    -o Server1.Port='{server_port}' \\\n",
        "    -o Server1.Username='{server_user}' \\\n",
        "    -o Server1.Password='{server_pass}' \\\n",
        "    -o Server1.Encryption='{server_encryption}' \\\n",
        "    -o Server1.Cipher='{server_cipher}' \\\n",
        "    -o Server1.Connections='{server_connections}' \\\n",
        "    -o Server1.Retention='{server_retention}' \\\n",
        "    -o outputmode=color \\\n",
        "    '{nzb_file}'"
      ],
      "execution_count": null,
      "outputs": []
    }
  ]
}