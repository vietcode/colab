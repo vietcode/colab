{
  "nbformat": 4,
  "nbformat_minor": 0,
  "metadata": {
    "colab": {
      "name": "NZBGet.ipynb",
      "provenance": [],
      "private_outputs": true,
      "collapsed_sections": [
        "aj3uXsTP8M3Q",
        "7vKiyjx98QIM"
      ],
      "machine_shape": "hm",
      "include_colab_link": true
    },
    "kernelspec": {
      "name": "python3",
      "display_name": "Python 3"
    }
  },
  "cells": [
    {
      "cell_type": "markdown",
      "metadata": {
        "id": "view-in-github",
        "colab_type": "text"
      },
      "source": [
        "<a href=\"https://colab.research.google.com/github/vietcode/colab/blob/main/NZBGet.ipynb\" target=\"_parent\"><img src=\"https://colab.research.google.com/assets/colab-badge.svg\" alt=\"Open In Colab\"/></a>"
      ]
    },
    {
      "cell_type": "markdown",
      "metadata": {
        "id": "aj3uXsTP8M3Q"
      },
      "source": [
        "## Settings\n",
        "\n",
        "Run this section at least once. Changes will be saved automatically.\n",
        "\n"
      ]
    },
    {
      "cell_type": "markdown",
      "metadata": {
        "id": "Agss3J4hSvGc"
      },
      "source": [
        "### Paths"
      ]
    },
    {
      "cell_type": "code",
      "metadata": {
        "id": "3WoZmZ376JOn"
      },
      "source": [
        "#@title {display-mode:\"form\", form-width: \"50%\", run: \"auto\"}\n",
        "\n",
        "#@markdown #### Paths\n",
        "\n",
        "#@markdown The main folder for all other folders.\n",
        "main_dir = \"/content/downloads\" #@param {type:\"string\"}\n",
        "\n",
        "#@markdown ---\n",
        "\n",
        "#@markdown Temp folder, default to `{main_dir}/tmp`\n",
        "temp_dir = \"\" #@param {type:\"string\"}\n",
        "#@markdown Completed folder, default to `{main_dir}/completed`\n",
        "dest_dir = \"\" #@param {type:\"string\"}\n",
        "#@markdown Intermediate/cache folder, default to `{main_dir}/intermediate`\n",
        "intermediate_dir = \"\" #@param {type:\"string\"}\n",
        "#@markdown Queue folder, default to `{main_dir}/queue`\n",
        "queue_dir = \"\" #@param {type:\"string\"}\n",
        "#@markdown Folder for NZB files, default to `{main_dir}/nzb`\n",
        "nzb_dir = \"\" #@param {type:\"string\"}\n",
        "\n",
        "# Ensure MainDir exist.\n",
        "!mkdir -p '{main_dir}'\n",
        "\n",
        "if not temp_dir:\n",
        "  temp_dir = main_dir + \"/tmp\"\n",
        "if not dest_dir:\n",
        "  dest_dir = main_dir + \"/completed\"\n",
        "if not intermediate_dir:\n",
        "  intermediate_dir = main_dir + \"/intermediate\"\n",
        "if not queue_dir:\n",
        "  queue_dir = main_dir + \"/queue\"\n",
        "if not nzb_dir:\n",
        "  nzb_dir = main_dir + \"/nzb\"\n",
        "\n",
        "import os\n",
        "\n",
        "# Install if haven't.\n",
        "if not os.path.isdir(\"/content/.nzbget\"):\n",
        "  # Clean up some space.\n",
        "  !rm -rf /content/sample_data/\n",
        "  # Download setup script.\n",
        "  !wget https://nzbget.net/download/nzbget-latest-bin-linux.run &> /dev/null\n",
        "  # Install\n",
        "  !sh nzbget-latest-bin-linux.run --destdir /content/.nzbget &> /dev/null\n",
        "  !rm nzbget-latest-bin-linux.run\n",
        "  # Symbolic link to PATH.\n",
        "  !ln -s /content/.nzbget/nzbget /usr/local/bin\n",
        "\n",
        "def nzbget(nzb_file, password = \"\"):\n",
        "  # Store password (even if blank) into a temp file.\n",
        "  !echo '{password}' > /content/.nzbget/passwords.txt\n",
        "\n",
        "  if nzb_file:\n",
        "    !nzbget \\\n",
        "      --option MainDir='{main_dir}' \\\n",
        "      --option TempDir='{temp_dir}' \\\n",
        "      --option DestDir='{dest_dir}' \\\n",
        "      --option InterDir='{intermediate_dir}' \\\n",
        "      --option QueueDir='{queue_dir}' \\\n",
        "      --option NzbDir='{nzb_dir}' \\\n",
        "      --option LockFile='{main_dir}/nzbget.lock' \\\n",
        "      --option LogFile='{main_dir}/nzbget.log' \\\n",
        "      --option Server1.Host='{server_host}' \\\n",
        "      --option Server1.Port='{server_port}' \\\n",
        "      --option Server1.Username='{server_user}' \\\n",
        "      --option Server1.Password='{server_pass}' \\\n",
        "      --option Server1.Encryption='{server_encryption}' \\\n",
        "      --option Server1.Cipher='{server_cipher}' \\\n",
        "      --option Server1.Connections='{server_connections}' \\\n",
        "      --option Server1.Retention='{server_retention}' \\\n",
        "      --option outputmode=color \\\n",
        "      --option ParCheck='auto' \\\n",
        "      --option ParScan='auto' \\\n",
        "      --option ParBuffer='128' \\\n",
        "      --option ParThreads='4' \\\n",
        "      --option UnpackPassFile='/content/.nzbget/passwords.txt' \\\n",
        "      --option ParPauseQueue='yes' \\\n",
        "      --option UnpackPauseQueue='yes' \\\n",
        "      --option DirectWrite='no' \\\n",
        "      --option WriteBuffer='1024' \\\n",
        "      '{nzb_file}'\n",
        "\n",
        "  # Clean up stored password.\n",
        "  !rm /content/.nzbget/passwords.txt"
      ],
      "execution_count": null,
      "outputs": []
    },
    {
      "cell_type": "markdown",
      "metadata": {
        "id": "i0s0oZdIS5lb"
      },
      "source": [
        "### Servers"
      ]
    },
    {
      "cell_type": "code",
      "metadata": {
        "id": "tD_qHcPpS7U-"
      },
      "source": [
        "#@title {display-mode:\"form\", form-width: \"50%\", run: \"auto\"}\n",
        "server_host = \"news.newshosting.com\" #@param {type:\"string\"}\n",
        "server_port = 563 #@param {type:\"integer\"}\n",
        "server_user = \"\" #@param {type:\"string\"}\n",
        "server_pass = \"\" #@param {type:\"string\"}\n",
        "server_encryption = \"yes\" #@param [\"yes\", \"no\"]\n",
        "server_cipher = \"\" #@param {type:\"string\"}\n",
        "server_connections = 10 #@param {type:\"slider\", min:5, max:60, step:1}\n",
        "server_retention = 3650 #@param {type:\"integer\"}"
      ],
      "execution_count": null,
      "outputs": []
    },
    {
      "cell_type": "markdown",
      "metadata": {
        "id": "7vKiyjx98QIM"
      },
      "source": [
        "## Downloads\n",
        "\n",
        "Use a cell for each NZB file. Copy and paste existing cell to add more."
      ]
    },
    {
      "cell_type": "code",
      "metadata": {
        "id": "cLcCBUJz4uoV"
      },
      "source": [
        "#@title Download by NZB file already uploaded { display-mode: \"form\", form-width: \"50%\" }\n",
        "\n",
        "nzb_file = \"/content/We.Are.Freestyle.Love.Supreme.2020.2160p.HULU.WEB-DL.DDP5.1.HEVC-NTG (1).nzb\" #@param {type:\"string\"}\n",
        "password = \"\" #@param {type:\"string\"}\n",
        "\n",
        "# Store password (even if blank) into a temp file.\n",
        "!echo '{password}' > /content/.nzbget/passwords.txt\n",
        "\n",
        "nzbget(nzb_file, password)"
      ],
      "execution_count": null,
      "outputs": []
    },
    {
      "cell_type": "code",
      "metadata": {
        "id": "3EPZxy40fyGJ"
      },
      "source": [
        "#@title Click to upload NZB and start download { display-mode: \"form\", form-width: \"50%\" }\n",
        "\n",
        "from google.colab import files\n",
        "\n",
        "password = \"\" #@param {type:\"string\"}\n",
        "uploaded = files.upload()\n",
        "\n",
        "for name in uploaded.keys():\n",
        "  content = uploaded[name]\n",
        "  # Ensure NZB folder exists.\n",
        "  !mkdir -p '{nzb_dir}'\n",
        "  nzb_file = os.path.join(nzb_dir, name)\n",
        "  # Write the uploaded NZB to filesystem.\n",
        "  open(nzb_file, 'wb').write(content)\n",
        "  # Start downloading\n",
        "  nzbget(nzb_file, password)"
      ],
      "execution_count": null,
      "outputs": []
    }
  ]
}