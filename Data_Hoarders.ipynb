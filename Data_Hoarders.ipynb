{
  "nbformat": 4,
  "nbformat_minor": 0,
  "metadata": {
    "colab": {
      "name": "Data Hoarders",
      "provenance": [],
      "private_outputs": true,
      "collapsed_sections": [],
      "machine_shape": "hm"
    },
    "kernelspec": {
      "name": "python3",
      "display_name": "Python 3"
    },
    "accelerator": "GPU"
  },
  "cells": [
    {
      "cell_type": "code",
      "metadata": {
        "id": "9OfAIFN0GfOa"
      },
      "source": [
        "#@title Setup  { display-mode: \"form\", form-width: \"30%\" }\n",
        "\n",
        "rclone = False #@param {type: \"boolean\" }\n",
        "speedtest = False #@param {type: \"boolean\" }\n",
        "ssh = True #@param {type: \"boolean\"}\n",
        "\n",
        "# Install libraries\n",
        "if rclone:\n",
        "  !curl https://rclone.org/install.sh | sudo bash\n",
        "\n",
        "if speedtest:\n",
        "  !pip install speedtest-cli 2>&1\n",
        "  !speedtest\n",
        "\n",
        "if ssh:\n",
        "  !wget https://github.com/tmate-io/tmate/releases/download/2.4.0/tmate-2.4.0-static-linux-i386.tar.xz &> /dev/null\n",
        "  !mkdir -p tmate \n",
        "  !tar -xvf tmate-2.4.0-static-linux-i386.tar.xz --strip-components 1 &> /dev/null\n",
        "  !rm tmate-2.4.0-static-linux-i386.tar.xz\n",
        "  !./tmate -S /tmp/tmate.sock new-session -d &> /dev/null\n",
        "  !sleep 1\n",
        "  !./tmate -S /tmp/tmate.sock display -p 'Connect to this SSH address: #{tmate_ssh}' "
      ],
      "execution_count": null,
      "outputs": []
    }
  ]
}